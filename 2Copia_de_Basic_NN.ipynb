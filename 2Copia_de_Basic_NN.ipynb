{
  "nbformat": 4,
  "nbformat_minor": 0,
  "metadata": {
    "colab": {
      "provenance": [],
      "include_colab_link": true
    },
    "kernelspec": {
      "name": "python3",
      "display_name": "Python 3"
    },
    "language_info": {
      "name": "python"
    }
  },
  "cells": [
    {
      "cell_type": "markdown",
      "metadata": {
        "id": "view-in-github",
        "colab_type": "text"
      },
      "source": [
        "<a href=\"https://colab.research.google.com/github/EDTuliocd/EDTuliocd/blob/main/2Copia_de_Basic_NN.ipynb\" target=\"_parent\"><img src=\"https://colab.research.google.com/assets/colab-badge.svg\" alt=\"Open In Colab\"/></a>"
      ]
    },
    {
      "cell_type": "code",
      "execution_count": 2,
      "metadata": {
        "id": "LouMzq3tv_5T"
      },
      "outputs": [],
      "source": [
        "import numpy as np\n",
        "import scipy as sc\n",
        "import math\n",
        "import pandas_datareader as pdr\n",
        "import matplotlib.pyplot as plt\n",
        "\n",
        "from datetime import datetime\n",
        "from sklearn import datasets\n",
        "from keras.models import Sequential\n",
        "from keras.layers import Dense\n",
        "\n",
        "import numpy as np\n",
        "import scipy as sc\n",
        "import matplotlib.pyplot as plt\n",
        "\n",
        "from sklearn.datasets import make_circles"
      ]
    },
    {
      "cell_type": "code",
      "metadata": {
        "colab": {
          "base_uri": "https://localhost:8080/",
          "height": 430
        },
        "id": "8P90j495aySl",
        "outputId": "d1fa6a35-46ad-4b49-9df4-2887a4d6bdf6"
      },
      "source": [
        "# create dataset\n",
        "# number of registers\n",
        "n = 5000\n",
        "# number of characteristics of our dataset (for each register)\n",
        "p = 2\n",
        "X, Y = make_circles(n_samples=n, factor=0.5, noise=0.05)\n",
        "Y = Y[:, np.newaxis]\n",
        "plt.scatter(X[Y[:,0]==0, 0], X[Y[:,0]==0, 1], c=\"skyblue\")\n",
        "plt.scatter(X[Y[:,0]==1, 0], X[Y[:,0]==1, 1], c=\"salmon\")\n",
        "plt.axis(\"equal\")\n",
        "plt.show()"
      ],
      "execution_count": 10,
      "outputs": [
        {
          "output_type": "display_data",
          "data": {
            "text/plain": [
              "<Figure size 640x480 with 1 Axes>"
            ],
            "image/png": "[encoded data removed]"
          },
          "metadata": {}
        }
      ]
    },
    {
      "cell_type": "code",
      "metadata": {
        "id": "QzP4KUsRd1QB"
      },
      "source": [
        "# class of network layer\n",
        "class neural_layer():\n",
        "  def __init__(self, n_connections, n_neurons, a_function):\n",
        "    self.a_function = a_function\n",
        "    normalization = lambda x : x * 2 - 1\n",
        "    # for bias\n",
        "    self.b = normalization(np.random.rand(1, n_neurons))\n",
        "    # for weights\n",
        "    self.W = normalization(np.random.rand(n_connections, n_neurons))"
      ],
      "execution_count": null,
      "outputs": []
    },
    {
      "cell_type": "code",
      "metadata": {
        "id": "Pab8a0YiotWm"
      },
      "source": [
        "# activation functions\n",
        "sigm = (lambda x : 1 / (1 + np.e ** (-x)),\n",
        "        lambda x: x * (1 - x))\n",
        "relu = lambda x: np.maximum(0, x)\n",
        "_x = np.linspace(-5, 5, 100) # 100 values from -5 to 5\n",
        "plt.plot(_x, sigm[0](_x), color='green', linestyle='dashed')"
      ],
      "execution_count": null,
      "outputs": []
    },
    {
      "cell_type": "code",
      "metadata": {
        "id": "ZRjgwWQNvJPI"
      },
      "source": [
        "# design of our neural network\n",
        "# l0 = neural_layer(p, 4, sigm)\n",
        "# l1 = neural_layer(4, 8, sigm)\n",
        "# ...\n",
        "\n",
        "def create_nn(topology, a_function):\n",
        "  nn = [];\n",
        "  for l, layer in enumerate(topology[:-1]):\n",
        "    nn.append(neural_layer(topology[l], topology[l+1], a_function))\n",
        "  return nn;"
      ],
      "execution_count": null,
      "outputs": []
    },
    {
      "cell_type": "code",
      "metadata": {
        "id": "EglYDFUpr1W8"
      },
      "source": [
        "topology = [p, 6, 1]\n",
        "neural_network = create_nn(topology, sigm)\n",
        "\n",
        "l2_cost = (lambda Yp, Yr: np.mean((Yp - Yr )**2),\n",
        "          lambda Yp, Yr: (Yp - Yr))\n",
        "\n",
        "def train(neural_network, X, Y, l2_cost, lr = 0.5, train = True):\n",
        "  out = [(None, X)]\n",
        "  # forward pass: we pass our ponderate sum trough all our layers\n",
        "  for l, layer in enumerate(neural_network):\n",
        "    z = out[-1][1] @ neural_network[l].W + neural_network[l].b\n",
        "    a = neural_network[l].a_function[0](z)\n",
        "    out.append((z, a))\n",
        "  # we can print our error now\n",
        "  # print(\"error\", l2_cost[0](out[-1][1], Y))\n",
        "  if train:\n",
        "    # backward pass\n",
        "    deltas = []\n",
        "    for l in reversed(range(0, len(neural_network))):\n",
        "      z = out[l+1][0]\n",
        "      a = out[l+1][1]\n",
        "\n",
        "      if l == len(neural_network)-1:\n",
        "        # for the last layer\n",
        "        deltas.insert(0, l2_cost[1](a, Y) * neural_network[l].a_function[1](a))\n",
        "      else:\n",
        "        # for other layers\n",
        "        deltas.insert(0, deltas[0] @  W_temporal.T * neural_network[l].a_function[1](a))\n",
        "      W_temporal = neural_network[l].W\n",
        "      # gradient descent\n",
        "      neural_network[l].b = neural_network[l].b - np.mean(deltas[0], axis=0, keepdims=True) * lr\n",
        "      neural_network[l].W = neural_network[l].W  - out[l][1].T @ deltas[0] * lr\n",
        "  return out[-1][1];\n",
        "train(neural_network, X, Y, l2_cost, 0.5)"
      ],
      "execution_count": null,
      "outputs": []
    },
    {
      "cell_type": "code",
      "metadata": {
        "id": "bdeU7alr2J8V"
      },
      "source": [
        "import time\n",
        "from IPython.display import clear_output\n",
        "\n",
        "neural_network = create_nn(topology, sigm)\n",
        "loss = []\n",
        "\n",
        "for i in range(2800):\n",
        "  pY = train(neural_network, X, Y, l2_cost, lr=0.05)\n",
        "  if i % 25 == 0:\n",
        "    loss.append(l2_cost[0](pY, Y))\n",
        "    res = 50\n",
        "\n",
        "    _x0 = np.linspace(-1.5, 1.5, res)\n",
        "    _x1 = np.linspace(-1.5, 1.5, res)\n",
        "    _Y = np.zeros((res, res))\n",
        "\n",
        "    for i0, x0 in enumerate (_x0):\n",
        "      for i1, x1 in enumerate(_x1):\n",
        "        _Y[i0, i1] = train(neural_network, np.array([[x0, x1]]), Y, l2_cost, train = False)[0][0]\n",
        "    plt.pcolormesh(_x0, _x1, _Y, cmap=\"coolwarm\")\n",
        "    plt.axis(\"equal\")\n",
        "\n",
        "    plt.scatter(X[Y[:,0] == 0, 0], X[Y[:,0] == 0, 1], c=\"skyblue\")\n",
        "    plt.scatter(X[Y[:,0] == 1, 0], X[Y[:,0] == 1, 1], c=\"red\")\n",
        "\n",
        "    clear_output(wait=True)\n",
        "    plt.show()\n",
        "    plt.plot(range(len(loss)), loss)\n",
        "    plt.show()\n",
        "    time.sleep(0.5)\n"
      ],
      "execution_count": null,
      "outputs": []
    },
    {
      "cell_type": "code",
      "source": [
        "mensaje = input()\n",
        "\n",
        "import random\n",
        "\n",
        "#l.Let's generate 10 values between 5 and 50. Store valued on a list.random\n",
        "\n",
        "my_list = []\n",
        "\n",
        "for _ in range (5):\n",
        "  rand_num = random.randint(1, 50)\n",
        "  my_list.append(rand_num)\n",
        "\n",
        "print(my_list)\n",
        "\n",
        "# 2 - let's generate 20 odd values between 0 and 100\n",
        "my_list = []\n",
        "\n",
        "# for _ in range (20):\n",
        "#   num = random.randrange(0, 50, 2)\n",
        "#   my_list.aopend(num)\n",
        "\n",
        "# print(my_list)\n",
        "\n",
        "# 3 - Generate 10 random numbers multiple of 5\n",
        "for _ in range(10):\n",
        "  rand_num = random.randint(1, 10)*5\n",
        "  print(rand_num)\n",
        "\n",
        "# 4 - let's generate a list with 20 sequential numbers. You hare to present it in a random order(Randomized).\n",
        "\n",
        "import random\n",
        "# from random impot shuffle\n",
        "\n",
        "some_nums = [i for i in range(1, 21)]\n",
        "print(some_nums)\n",
        "random.shuffle(some_nums)\n",
        "print(\"Randomized: in\", some_nums)"
      ],
      "metadata": {
        "id": "9D85gi6qx09s"
      },
      "execution_count": null,
      "outputs": []
    }
  ]
}